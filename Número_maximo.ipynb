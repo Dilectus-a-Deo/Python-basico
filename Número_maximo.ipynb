{
  "nbformat": 4,
  "nbformat_minor": 0,
  "metadata": {
    "colab": {
      "provenance": [],
      "authorship_tag": "ABX9TyPwK3taQxph9b+vcBt3A1Gf",
      "include_colab_link": true
    },
    "kernelspec": {
      "name": "python3",
      "display_name": "Python 3"
    },
    "language_info": {
      "name": "python"
    }
  },
  "cells": [
    {
      "cell_type": "markdown",
      "metadata": {
        "id": "view-in-github",
        "colab_type": "text"
      },
      "source": [
        "<a href=\"https://colab.research.google.com/github/Dilectus-a-Deo/Python-basico/blob/main/N%C3%BAmero_maximo.ipynb\" target=\"_parent\"><img src=\"https://colab.research.google.com/assets/colab-badge.svg\" alt=\"Open In Colab\"/></a>"
      ]
    },
    {
      "cell_type": "code",
      "execution_count": null,
      "metadata": {
        "colab": {
          "base_uri": "https://localhost:8080/"
        },
        "id": "_Y5gUxNyv45n",
        "outputId": "adfd351b-bb41-4d83-8b48-4820b4e9c696"
      },
      "outputs": [
        {
          "output_type": "stream",
          "name": "stdout",
          "text": [
            "Digito um número: 1\n",
            "Digito um número: 2\n",
            "Número máximo encontrado até agora é 2.0\n",
            "Digito um número: 4\n",
            "Número máximo encontrado até agora é 4.0\n",
            "Digito um número: 5\n",
            "Número máximo encontrado até agora é 5.0\n",
            "Digito um número: 10000\n",
            "Número máximo encontrado até agora é 10000.0\n"
          ]
        }
      ],
      "source": [
        "maximo = float(input('Digito um número: '))\n",
        "\n",
        "for _ in range(4):\n",
        "  maximo = max(maximo, float(input('Digito um número: ')))\n",
        "  print(f'Número máximo encontrado até agora é {maximo}')"
      ]
    }
  ]
}