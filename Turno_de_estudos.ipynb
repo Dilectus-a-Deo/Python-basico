{
  "nbformat": 4,
  "nbformat_minor": 0,
  "metadata": {
    "colab": {
      "provenance": [],
      "authorship_tag": "ABX9TyOpFHxSqj57iemPQZzoFBag",
      "include_colab_link": true
    },
    "kernelspec": {
      "name": "python3",
      "display_name": "Python 3"
    },
    "language_info": {
      "name": "python"
    }
  },
  "cells": [
    {
      "cell_type": "markdown",
      "metadata": {
        "id": "view-in-github",
        "colab_type": "text"
      },
      "source": [
        "<a href=\"https://colab.research.google.com/github/Dilectus-a-Deo/Python-basico/blob/main/Turno_de_estudos.ipynb\" target=\"_parent\"><img src=\"https://colab.research.google.com/assets/colab-badge.svg\" alt=\"Open In Colab\"/></a>"
      ]
    },
    {
      "cell_type": "code",
      "execution_count": null,
      "metadata": {
        "colab": {
          "base_uri": "https://localhost:8080/"
        },
        "id": "rgoMHjzwTh4f",
        "outputId": "49d1173a-b109-4b6e-aa2c-fd207b790ad9"
      },
      "outputs": [
        {
          "output_type": "stream",
          "name": "stdout",
          "text": [
            "Digite o turno em que você estuda (M-matuidino ,V-vespertino,N-noturno):m\n",
            "Bom dia!\n"
          ]
        }
      ],
      "source": [
        "#inserindo variáveis\n",
        "\n",
        "turno = input(\"Digite o turno em que você estuda (M-matuidino ,V-vespertino,N-noturno): \").upper()\n",
        "\n",
        "#colocando a condição das variáveis\n",
        "\n",
        "if turno == 'M':\n",
        "\n",
        "   print(\"Bom dia!\")\n",
        "\n",
        "elif turno == 'V':\n",
        "\n",
        "   print(\"Boa tarde!\")\n",
        "\n",
        "elif turno == 'N':\n",
        "\n",
        "   print(\"boa noite!\")\n",
        "\n",
        "else:\n",
        "\n",
        "  print(\"valor inválido!\")"
      ]
    }
  ]
}