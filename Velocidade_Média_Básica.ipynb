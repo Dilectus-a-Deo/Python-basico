{
  "nbformat": 4,
  "nbformat_minor": 0,
  "metadata": {
    "colab": {
      "provenance": [],
      "authorship_tag": "ABX9TyO1PUtFoQ2Op/RsQOUxqW5f",
      "include_colab_link": true
    },
    "kernelspec": {
      "name": "python3",
      "display_name": "Python 3"
    },
    "language_info": {
      "name": "python"
    }
  },
  "cells": [
    {
      "cell_type": "markdown",
      "metadata": {
        "id": "view-in-github",
        "colab_type": "text"
      },
      "source": [
        "<a href=\"https://colab.research.google.com/github/Dilectus-a-Deo/Python-basico/blob/main/Velocidade_M%C3%A9dia_B%C3%A1sica.ipynb\" target=\"_parent\"><img src=\"https://colab.research.google.com/assets/colab-badge.svg\" alt=\"Open In Colab\"/></a>"
      ]
    },
    {
      "cell_type": "code",
      "execution_count": 4,
      "metadata": {
        "colab": {
          "base_uri": "https://localhost:8080/"
        },
        "id": "orItLuLQ7xHH",
        "outputId": "6bea4b1d-9045-4b14-a44f-20d46af62894"
      },
      "outputs": [
        {
          "output_type": "stream",
          "name": "stdout",
          "text": [
            "Para cálcular a velocidade média percorrida 14.285714285714286 m/s .\n"
          ]
        }
      ],
      "source": [
        "# definição de variáveis\n",
        "\n",
        "velocidade_media = 50\n",
        "distancia_percorrida_m = 100\n",
        "tempo_medio_s = 7\n",
        "\n",
        "# calculando a velociade media\n",
        "\n",
        "velocidade_media = distancia_percorrida_m / tempo_medio_s\n",
        "\n",
        "# saida de resultado\n",
        "\n",
        "print(f\"Para cálcular a velocidade média percorrida {velocidade_media} m/s .\")"
      ]
    }
  ]
}