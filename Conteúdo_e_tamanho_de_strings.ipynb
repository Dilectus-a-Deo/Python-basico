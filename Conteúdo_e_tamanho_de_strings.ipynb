{
  "nbformat": 4,
  "nbformat_minor": 0,
  "metadata": {
    "colab": {
      "provenance": [],
      "authorship_tag": "ABX9TyMzBzWgrzR8Jelw8zAnw3hN",
      "include_colab_link": true
    },
    "kernelspec": {
      "name": "python3",
      "display_name": "Python 3"
    },
    "language_info": {
      "name": "python"
    }
  },
  "cells": [
    {
      "cell_type": "markdown",
      "metadata": {
        "id": "view-in-github",
        "colab_type": "text"
      },
      "source": [
        "<a href=\"https://colab.research.google.com/github/Dilectus-a-Deo/Python-basico/blob/main/Conte%C3%BAdo_e_tamanho_de_strings.ipynb\" target=\"_parent\"><img src=\"https://colab.research.google.com/assets/colab-badge.svg\" alt=\"Open In Colab\"/></a>"
      ]
    },
    {
      "cell_type": "code",
      "execution_count": null,
      "metadata": {
        "colab": {
          "base_uri": "https://localhost:8080/"
        },
        "id": "LD6i0j_u2DAF",
        "outputId": "ee28da1d-f293-434a-c851-2aa3a787f882"
      },
      "outputs": [
        {
          "output_type": "stream",
          "name": "stdout",
          "text": [
            "Digite uma string: pedro\n",
            "Digite uma outra string: barbosa\n",
            "\"(s1)\": (tamanho1) caracteres\n",
            "\"(s2)\": (tamanho2) caracteres\n",
            "as duas strings são de tamanhos (comparacao_de_tamanho).\n",
            "as duas strings possuem conteúdo (comparacao_de_conteudo).\n"
          ]
        }
      ],
      "source": [
        "s1 = input('Digite uma string: ')\n",
        "s2 = input('Digite uma outra string: ')\n",
        "\n",
        "tamanho1 = len(s1)\n",
        "tamanho2 = len(s2)\n",
        "\n",
        "print(f'\"(s1)\": (tamanho1) caracteres')\n",
        "print(f'\"(s2)\": (tamanho2) caracteres')\n",
        "\n",
        "comparacao_de_tamanho = 'diferentes'\n",
        "comparacao_de_conteudo = 'diferente'\n",
        "\n",
        "if s1 == s2 :\n",
        "  comparacao_de_tamanho = 'iguais'\n",
        "  comparacao_de_conteudo = 'igual'\n",
        "elif tamanho1 == tamanho2 :\n",
        "  comparacao_de_tamanhos = 'iguais'\n",
        "print(f'as duas strings são de tamanhos (comparacao_de_tamanho).')\n",
        "print(f'as duas strings possuem conteúdo (comparacao_de_conteudo).')"
      ]
    },
    {
      "cell_type": "code",
      "source": [],
      "metadata": {
        "id": "CTaVoWXaAAVN"
      },
      "execution_count": null,
      "outputs": []
    },
    {
      "cell_type": "code",
      "source": [],
      "metadata": {
        "id": "MV_GK76OAArS"
      },
      "execution_count": null,
      "outputs": []
    }
  ]
}