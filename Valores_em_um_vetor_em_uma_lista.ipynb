{
  "nbformat": 4,
  "nbformat_minor": 0,
  "metadata": {
    "colab": {
      "provenance": [],
      "authorship_tag": "ABX9TyPo9gI4zS/UXgZQJR3xbZ+3",
      "include_colab_link": true
    },
    "kernelspec": {
      "name": "python3",
      "display_name": "Python 3"
    },
    "language_info": {
      "name": "python"
    }
  },
  "cells": [
    {
      "cell_type": "markdown",
      "metadata": {
        "id": "view-in-github",
        "colab_type": "text"
      },
      "source": [
        "<a href=\"https://colab.research.google.com/github/Dilectus-a-Deo/Python-basico/blob/main/Valores_em_um_vetor_em_uma_lista.ipynb\" target=\"_parent\"><img src=\"https://colab.research.google.com/assets/colab-badge.svg\" alt=\"Open In Colab\"/></a>"
      ]
    },
    {
      "cell_type": "code",
      "execution_count": null,
      "metadata": {
        "colab": {
          "base_uri": "https://localhost:8080/"
        },
        "id": "QDBilWX_gBQ2",
        "outputId": "0012a912-a48e-45dd-dde3-e61ba522996b"
      },
      "outputs": [
        {
          "output_type": "stream",
          "name": "stdout",
          "text": [
            "Digito um número1\n",
            "[1.0]\n",
            "Digito um número2\n",
            "[1.0, 2.0]\n",
            "Digito um número3\n",
            "[1.0, 2.0, 3.0]\n",
            "Digito um número4\n",
            "[1.0, 2.0, 3.0, 4.0]\n",
            "Digito um número5\n",
            "[1.0, 2.0, 3.0, 4.0, 5.0]\n"
          ]
        }
      ],
      "source": [
        "lista =[]\n",
        "for _ in range (5):\n",
        "  numero = float (input('Digito um número'))\n",
        "  lista.append (numero)\n",
        "  print (lista)"
      ]
    }
  ]
}