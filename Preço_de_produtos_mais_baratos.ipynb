{
  "nbformat": 4,
  "nbformat_minor": 0,
  "metadata": {
    "colab": {
      "provenance": [],
      "authorship_tag": "ABX9TyMb9CLHOBHSFhtEjE1THIur",
      "include_colab_link": true
    },
    "kernelspec": {
      "name": "python3",
      "display_name": "Python 3"
    },
    "language_info": {
      "name": "python"
    }
  },
  "cells": [
    {
      "cell_type": "markdown",
      "metadata": {
        "id": "view-in-github",
        "colab_type": "text"
      },
      "source": [
        "<a href=\"https://colab.research.google.com/github/Dilectus-a-Deo/Python-basico/blob/main/Pre%C3%A7o_de_produtos_mais_baratos.ipynb\" target=\"_parent\"><img src=\"https://colab.research.google.com/assets/colab-badge.svg\" alt=\"Open In Colab\"/></a>"
      ]
    },
    {
      "cell_type": "code",
      "execution_count": null,
      "metadata": {
        "colab": {
          "base_uri": "https://localhost:8080/"
        },
        "id": "937f6EgLBw6s",
        "outputId": "377551e9-e515-49b8-a58d-a5814c48fe4a"
      },
      "outputs": [
        {
          "output_type": "stream",
          "name": "stdout",
          "text": [
            "Digite o preço do produto: 1\n",
            "Digite o preço do produto: 2\n",
            "Digite o preço do produto: 3\n",
            "você deve comprar o produto mais barato : 1 reais\n",
            "finalizar programa\n"
          ]
        }
      ],
      "source": [
        "#inserindo as variáveis\n",
        "\n",
        "produto1 = int(input(\"Digite o preço do produto: \"))\n",
        "produto2 = int(input(\"Digite o preço do produto: \"))\n",
        "produto3 = int(input(\"Digite o preço do produto: \"))\n",
        "\n",
        "#encontrar o mais barato\n",
        "\n",
        "menor = min(produto1,produto2,produto3)\n",
        "\n",
        "print(f'você deve comprar o produto mais barato : {menor} reais')\n",
        "print(\"programa finalizado\")\n"
      ]
    }
  ]
}