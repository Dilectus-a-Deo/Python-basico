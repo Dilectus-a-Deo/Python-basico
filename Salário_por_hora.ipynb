{
  "nbformat": 4,
  "nbformat_minor": 0,
  "metadata": {
    "colab": {
      "provenance": [],
      "authorship_tag": "ABX9TyNdBbAMJLxgTOsEKJjXrwBd",
      "include_colab_link": true
    },
    "kernelspec": {
      "name": "python3",
      "display_name": "Python 3"
    },
    "language_info": {
      "name": "python"
    }
  },
  "cells": [
    {
      "cell_type": "markdown",
      "metadata": {
        "id": "view-in-github",
        "colab_type": "text"
      },
      "source": [
        "<a href=\"https://colab.research.google.com/github/Dilectus-a-Deo/Python-basico/blob/main/Sal%C3%A1rio_por_hora.ipynb\" target=\"_parent\"><img src=\"https://colab.research.google.com/assets/colab-badge.svg\" alt=\"Open In Colab\"/></a>"
      ]
    },
    {
      "cell_type": "code",
      "execution_count": null,
      "metadata": {
        "colab": {
          "base_uri": "https://localhost:8080/"
        },
        "id": "kYh621XLrTYW",
        "outputId": "63d75850-f352-41fe-857f-ac6d4c0052a9"
      },
      "outputs": [
        {
          "output_type": "stream",
          "name": "stdout",
          "text": [
            " Digite o quanto você ganha por hora: 1\n",
            " Digite o numero de horas trabalhadas no mês: 1\n",
            " O total do seu salário neste mês é:  1.0\n",
            "programa finalizado\n"
          ]
        }
      ],
      "source": [
        "# Pedindo para o usuário inserir quanto ganha por hora :\n",
        "\n",
        "ganho_por_hora = float(input( \" Digite o quanto você ganha por hora: \"))\n",
        "\n",
        "# Pedidndo para o usuário inserir o quanto ganha por hora :\n",
        "\n",
        "horas_trabalhadas = float(input( \" Digite o numero de horas trabalhadas no mês: \"))\n",
        "\n",
        "#Calculando o salario total:\n",
        "\n",
        "salario = ganho_por_hora * horas_trabalhadas\n",
        "\n",
        "#mostrando o salario total:\n",
        "\n",
        "print(\" O total do seu salário neste mês é: \" , salario )\n",
        "\n",
        "print(\"programa finalizado\")\n"
      ]
    }
  ]
}