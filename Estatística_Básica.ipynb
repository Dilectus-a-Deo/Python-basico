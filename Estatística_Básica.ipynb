{
  "nbformat": 4,
  "nbformat_minor": 0,
  "metadata": {
    "colab": {
      "provenance": [],
      "authorship_tag": "ABX9TyNXpGAu1SE/WeN/gc3woIWi",
      "include_colab_link": true
    },
    "kernelspec": {
      "name": "python3",
      "display_name": "Python 3"
    },
    "language_info": {
      "name": "python"
    }
  },
  "cells": [
    {
      "cell_type": "markdown",
      "metadata": {
        "id": "view-in-github",
        "colab_type": "text"
      },
      "source": [
        "<a href=\"https://colab.research.google.com/github/Dilectus-a-Deo/Python-basico/blob/main/Estat%C3%ADstica_B%C3%A1sica.ipynb\" target=\"_parent\"><img src=\"https://colab.research.google.com/assets/colab-badge.svg\" alt=\"Open In Colab\"/></a>"
      ]
    },
    {
      "cell_type": "code",
      "execution_count": 2,
      "metadata": {
        "colab": {
          "base_uri": "https://localhost:8080/"
        },
        "id": "JdxEtBmKoBVT",
        "outputId": "2f212774-bea6-4a3b-cc7c-55adaec33537"
      },
      "outputs": [
        {
          "output_type": "stream",
          "name": "stdout",
          "text": [
            "Média : 6\n",
            "Mediana : 6\n",
            "Desvio Padrão : 2.7386127875258306\n"
          ]
        }
      ],
      "source": [
        "import statistics\n",
        "\n",
        "# dados exemplos\n",
        "\n",
        "dados = [2,3,4,5,6,7,8,9,10]\n",
        "\n",
        "# calculo da media\n",
        "\n",
        "media = statistics.mean(dados)\n",
        "\n",
        "#calculo da mediana\n",
        "\n",
        "mediana = statistics.mean(dados)\n",
        "\n",
        "# calculo do desvio padrão\n",
        "\n",
        "desvio_padrao = statistics.stdev(dados)\n",
        "\n",
        "# exibindo resultados\n",
        "\n",
        "print(f'Média : {media}')\n",
        "print(f'Mediana : {mediana}')\n",
        "print(f'Desvio Padrão : {desvio_padrao}')\n"
      ]
    }
  ]
}