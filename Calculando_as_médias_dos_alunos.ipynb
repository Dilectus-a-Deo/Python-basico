{
  "nbformat": 4,
  "nbformat_minor": 0,
  "metadata": {
    "colab": {
      "provenance": [],
      "authorship_tag": "ABX9TyMSWNyOT6sPR82K8DcGapnw",
      "include_colab_link": true
    },
    "kernelspec": {
      "name": "python3",
      "display_name": "Python 3"
    },
    "language_info": {
      "name": "python"
    }
  },
  "cells": [
    {
      "cell_type": "markdown",
      "metadata": {
        "id": "view-in-github",
        "colab_type": "text"
      },
      "source": [
        "<a href=\"https://colab.research.google.com/github/Dilectus-a-Deo/Python-basico/blob/main/Calculando_as_m%C3%A9dias_dos_alunos.ipynb\" target=\"_parent\"><img src=\"https://colab.research.google.com/assets/colab-badge.svg\" alt=\"Open In Colab\"/></a>"
      ]
    },
    {
      "cell_type": "code",
      "execution_count": null,
      "metadata": {
        "colab": {
          "base_uri": "https://localhost:8080/"
        },
        "id": "_4GNiiXhjAyS",
        "outputId": "9495e33e-6cf1-4838-8aaa-a24b92b066ea"
      },
      "outputs": [
        {
          "output_type": "stream",
          "name": "stdout",
          "text": [
            "Digite um número: 1\n",
            "Digite um número: 2\n",
            "Digite um número: -1\n",
            "Foram lidas 2 notas\n",
            "1.02.0\n",
            "2.0\n",
            "1.0\n",
            " Soma das notas é : 3.0\n",
            "A média das notas é: 1.5\n",
            "Notas acima da média:\n",
            "2.0\n",
            "Notas abaixo de 7: \n",
            "\n",
            "Progama de estátistica de notas encerrado\n"
          ]
        }
      ],
      "source": [
        "notas = []\n",
        "\n",
        "while True:\n",
        "    entrada = input('Digite um número: ')\n",
        "    if entrada == '-1':\n",
        "        break\n",
        "    notas.append(float(entrada))\n",
        "\n",
        "tamnho = len(notas)\n",
        "print(f'Foram lidas {tamnho} notas')\n",
        "print(''.join([str(nota) for nota in notas]))\n",
        "notas.reverse()\n",
        "\n",
        "for nota in notas:\n",
        "  print(nota)\n",
        "\n",
        "soma = sum(notas)\n",
        "\n",
        "print(f' Soma das notas é : {soma}')\n",
        "\n",
        "media = soma / tamnho\n",
        "\n",
        "print(f'A média das notas é: {media}')\n",
        "\n",
        "print('Notas acima da média:')\n",
        "\n",
        "print (''.join([str(nota) for nota in notas if nota > media ] ))\n",
        "\n",
        "print('Notas abaixo de 7: ' )\n",
        "\n",
        "print(''.join([str(nota) for nota in notas if nota > 7 ] ))\n",
        "\n",
        "print('Progama de estátistica de notas encerrado')\n"
      ]
    }
  ]
}