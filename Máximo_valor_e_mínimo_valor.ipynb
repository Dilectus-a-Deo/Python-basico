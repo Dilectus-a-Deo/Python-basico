{
  "nbformat": 4,
  "nbformat_minor": 0,
  "metadata": {
    "colab": {
      "provenance": [],
      "authorship_tag": "ABX9TyPXkZ0N3XUK6Egy6pQMwUE0",
      "include_colab_link": true
    },
    "kernelspec": {
      "name": "python3",
      "display_name": "Python 3"
    },
    "language_info": {
      "name": "python"
    }
  },
  "cells": [
    {
      "cell_type": "markdown",
      "metadata": {
        "id": "view-in-github",
        "colab_type": "text"
      },
      "source": [
        "<a href=\"https://colab.research.google.com/github/Dilectus-a-Deo/Python-basico/blob/main/M%C3%A1ximo_valor_e_m%C3%ADnimo_valor.ipynb\" target=\"_parent\"><img src=\"https://colab.research.google.com/assets/colab-badge.svg\" alt=\"Open In Colab\"/></a>"
      ]
    },
    {
      "cell_type": "code",
      "execution_count": 1,
      "metadata": {
        "id": "-I8vMHeOdVP0",
        "outputId": "f8e09e5b-17da-4b97-dc56-437729115c6c",
        "colab": {
          "base_uri": "https://localhost:8080/"
        }
      },
      "outputs": [
        {
          "output_type": "stream",
          "name": "stdout",
          "text": [
            "Digite um número: 1\n",
            "Digite um número: 2\n",
            "Digite um número: 3\n",
            "o maior número é : 3\n",
            "o menor número é : 1\n"
          ]
        }
      ],
      "source": [
        "#adicionando variáveis\n",
        "\n",
        "num1 = int(input(\"Digite um número: \"))\n",
        "num2 = int(input(\"Digite um número: \"))\n",
        "num3 = int(input(\"Digite um número: \"))\n",
        "\n",
        "#Encontrar o maior número\n",
        "\n",
        "maior = max(num1,num2,num3)\n",
        "\n",
        "#encontrar o menor número\n",
        "\n",
        "menor = min(num1,num2,num3)\n",
        "\n",
        "#encontrar o maior e menor número\n",
        "\n",
        "print (f'o maior número é : {maior}')\n",
        "print (f'o menor número é : {menor}')\n"
      ]
    }
  ]
}