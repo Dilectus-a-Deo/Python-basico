{
  "nbformat": 4,
  "nbformat_minor": 0,
  "metadata": {
    "colab": {
      "provenance": [],
      "authorship_tag": "ABX9TyP1ej8oJivnyZPfRERyO79K",
      "include_colab_link": true
    },
    "kernelspec": {
      "name": "python3",
      "display_name": "Python 3"
    },
    "language_info": {
      "name": "python"
    }
  },
  "cells": [
    {
      "cell_type": "markdown",
      "metadata": {
        "id": "view-in-github",
        "colab_type": "text"
      },
      "source": [
        "<a href=\"https://colab.research.google.com/github/Dilectus-a-Deo/Python-basico/blob/main/Crescimento_populacional.ipynb\" target=\"_parent\"><img src=\"https://colab.research.google.com/assets/colab-badge.svg\" alt=\"Open In Colab\"/></a>"
      ]
    },
    {
      "cell_type": "code",
      "execution_count": null,
      "metadata": {
        "colab": {
          "base_uri": "https://localhost:8080/"
        },
        "id": "PWOtQRaWUxHf",
        "outputId": "5a7821eb-c194-43eb-ca55-6eed27f51692"
      },
      "outputs": [
        {
          "output_type": "stream",
          "name": "stdout",
          "text": [
            "######## Populações no ano 63\n",
            "população de A: 515033.1028059676\n",
            "população de B: 510908\n"
          ]
        }
      ],
      "source": [
        "populacao_a= 80_000\n",
        "populacao_b=200_000\n",
        "taxa_de_crescimento_de_a = 1.03\n",
        "taxa_de_crescimento_de_b = 1.015\n",
        "anos=0\n",
        "\n",
        "while populacao_a <populacao_b:\n",
        "  #print(f'######## populações de no ano {anos}')\n",
        "  #print(f'populações de A: no ano {anos}')\n",
        "  #print(f'populações de B: no ano {anos}')\n",
        "  anos += 1\n",
        "  populacao_a = populacao_a * taxa_de_crescimento_de_a\n",
        "  populacao_b *= taxa_de_crescimento_de_b\n",
        "  populacao_b = int(populacao_b)\n",
        "\n",
        "print(f'######## Populações no ano {anos}')\n",
        "print(f'população de A: {populacao_a}')\n",
        "print(f'população de B: {populacao_b}')\n",
        "\n"
      ]
    },
    {
      "cell_type": "code",
      "source": [],
      "metadata": {
        "id": "vQZ9IMWdvzUU"
      },
      "execution_count": null,
      "outputs": []
    }
  ]
}