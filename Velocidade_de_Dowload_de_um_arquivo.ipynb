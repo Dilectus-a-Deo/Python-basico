{
  "nbformat": 4,
  "nbformat_minor": 0,
  "metadata": {
    "colab": {
      "provenance": [],
      "authorship_tag": "ABX9TyMq6YNsOR/nWHMJLXRNwPvK",
      "include_colab_link": true
    },
    "kernelspec": {
      "name": "python3",
      "display_name": "Python 3"
    },
    "language_info": {
      "name": "python"
    }
  },
  "cells": [
    {
      "cell_type": "markdown",
      "metadata": {
        "id": "view-in-github",
        "colab_type": "text"
      },
      "source": [
        "<a href=\"https://colab.research.google.com/github/Dilectus-a-Deo/Python-basico/blob/main/Velocidade_de_Dowload_de_um_arquivo.ipynb\" target=\"_parent\"><img src=\"https://colab.research.google.com/assets/colab-badge.svg\" alt=\"Open In Colab\"/></a>"
      ]
    },
    {
      "cell_type": "code",
      "execution_count": null,
      "metadata": {
        "colab": {
          "base_uri": "https://localhost:8080/"
        },
        "id": "ox6qLvdRoZmi",
        "outputId": "dd8a3168-94db-4b16-c43a-eb6b016a058a"
      },
      "outputs": [
        {
          "output_type": "stream",
          "name": "stdout",
          "text": [
            "Informe o tamanho do arquivo para dowload (em MB): 100\n",
            "Informe a velocidade do seu link de internet (em Mbps): 50\n",
            "O tempo aproximado de dowload do arquivo é de 0.27 minutos. \n"
          ]
        }
      ],
      "source": [
        "#Pedindo ao usuário o tamanho do arquivo em MB e a velocidade da internet em Mbps:\n",
        "\n",
        "tamanho_do_arquivo = float(input(\"Informe o tamanho do arquivo para dowload (em MB): \"))\n",
        "velocidade_internet_mbps = float(input(\"Informe a velocidade do seu link de internet (em Mbps): \"))\n",
        "\n",
        "#Calculando o tempo de download em segundos:\n",
        "\n",
        "tempo_dowload_segundos = (tamanho_do_arquivo * 8) / velocidade_internet_mbps\n",
        "\n",
        "#Convertendo o tempo de dowload para minutos:\n",
        "\n",
        "tempo_dowload_minutos = tempo_dowload_segundos / 60\n",
        "\n",
        "#Exibe o tempo aproximado de dowload:\n",
        "print(f\"O tempo aproximado de dowload do arquivo é de {tempo_dowload_minutos:.2f} minutos. \")"
      ]
    }
  ]
}