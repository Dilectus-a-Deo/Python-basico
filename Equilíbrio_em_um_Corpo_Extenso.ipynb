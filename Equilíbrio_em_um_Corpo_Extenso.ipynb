{
  "nbformat": 4,
  "nbformat_minor": 0,
  "metadata": {
    "colab": {
      "provenance": [],
      "authorship_tag": "ABX9TyOjYYQ2zHmCVbBGEPz300Yc",
      "include_colab_link": true
    },
    "kernelspec": {
      "name": "python3",
      "display_name": "Python 3"
    },
    "language_info": {
      "name": "python"
    }
  },
  "cells": [
    {
      "cell_type": "markdown",
      "metadata": {
        "id": "view-in-github",
        "colab_type": "text"
      },
      "source": [
        "<a href=\"https://colab.research.google.com/github/Dilectus-a-Deo/Python-basico/blob/main/Equil%C3%ADbrio_em_um_Corpo_Extenso.ipynb\" target=\"_parent\"><img src=\"https://colab.research.google.com/assets/colab-badge.svg\" alt=\"Open In Colab\"/></a>"
      ]
    },
    {
      "cell_type": "code",
      "execution_count": 4,
      "metadata": {
        "colab": {
          "base_uri": "https://localhost:8080/"
        },
        "id": "CfErc4k6jVG4",
        "outputId": "83642258-bcbc-46f5-dfd7-ceceb6bdcab5"
      },
      "outputs": [
        {
          "output_type": "stream",
          "name": "stdout",
          "text": [
            "Para equilibrar a gangorra, a criança mais magra deve pesar 60.0 kgf.\n"
          ]
        }
      ],
      "source": [
        "# Definição das variáveis\n",
        "\n",
        "peso_crianca_forte_kgf = 80\n",
        "distancia_crianca_forte_m = 1.5\n",
        "distancia_crianca_magra_m = 2\n",
        "\n",
        "# Cálculo do peso da criança mais magra para equilibrar a gangorra\n",
        "\n",
        "peso_crianca_magra_kgf = peso_crianca_forte_kgf * distancia_crianca_forte_m / distancia_crianca_magra_m\n",
        "\n",
        "# Saída do resultado\n",
        "\n",
        "print(f\"Para equilibrar a gangorra, a criança mais magra deve pesar {peso_crianca_magra_kgf} kgf.\")\n"
      ]
    }
  ]
}