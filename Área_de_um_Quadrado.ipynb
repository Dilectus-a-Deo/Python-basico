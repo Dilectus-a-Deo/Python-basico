{
  "nbformat": 4,
  "nbformat_minor": 0,
  "metadata": {
    "colab": {
      "provenance": [],
      "authorship_tag": "ABX9TyOn9C1ux2yX9BN4Uf7NkvvU",
      "include_colab_link": true
    },
    "kernelspec": {
      "name": "python3",
      "display_name": "Python 3"
    },
    "language_info": {
      "name": "python"
    }
  },
  "cells": [
    {
      "cell_type": "markdown",
      "metadata": {
        "id": "view-in-github",
        "colab_type": "text"
      },
      "source": [
        "<a href=\"https://colab.research.google.com/github/Dilectus-a-Deo/Python-basico/blob/main/%C3%81rea_de_um_Quadrado.ipynb\" target=\"_parent\"><img src=\"https://colab.research.google.com/assets/colab-badge.svg\" alt=\"Open In Colab\"/></a>"
      ]
    },
    {
      "cell_type": "code",
      "execution_count": null,
      "metadata": {
        "colab": {
          "base_uri": "https://localhost:8080/"
        },
        "id": "p0jOaFJ1cLRa",
        "outputId": "bdf110ae-26fd-493d-8b82-18ed9df1258c"
      },
      "outputs": [
        {
          "output_type": "stream",
          "name": "stdout",
          "text": [
            " Digite o lado do quadrado 1\n",
            "calculando o dobro da area do :  2.0\n"
          ]
        }
      ],
      "source": [
        "# Importando da biblioteca matemática:\n",
        "\n",
        "import math\n",
        "\n",
        "# Pedindo para o usuário inserir o lado:\n",
        "\n",
        "lado = float(input(\" Digite o lado do quadrado \"))\n",
        "\n",
        "# Calculando a area do quadrado :\n",
        "\n",
        "area = lado ** 2\n",
        "\n",
        "# Calculando o dobro da area:\n",
        "\n",
        "dobro_da_area = 2 * area\n",
        "\n",
        "# Mostrando a area:\n",
        "\n",
        "print(\"calculando o dobro da area do : \" , dobro_da_area)"
      ]
    },
    {
      "cell_type": "code",
      "source": [],
      "metadata": {
        "id": "Z-Ryp2i0CNnm"
      },
      "execution_count": null,
      "outputs": []
    }
  ]
}