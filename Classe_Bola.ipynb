{
  "nbformat": 4,
  "nbformat_minor": 0,
  "metadata": {
    "colab": {
      "provenance": [],
      "authorship_tag": "ABX9TyMZqHQXpJO8by3dBYEn4kw9",
      "include_colab_link": true
    },
    "kernelspec": {
      "name": "python3",
      "display_name": "Python 3"
    },
    "language_info": {
      "name": "python"
    }
  },
  "cells": [
    {
      "cell_type": "markdown",
      "metadata": {
        "id": "view-in-github",
        "colab_type": "text"
      },
      "source": [
        "<a href=\"https://colab.research.google.com/github/Dilectus-a-Deo/Python-basico/blob/main/Classe_Bola.ipynb\" target=\"_parent\"><img src=\"https://colab.research.google.com/assets/colab-badge.svg\" alt=\"Open In Colab\"/></a>"
      ]
    },
    {
      "cell_type": "code",
      "execution_count": 18,
      "metadata": {
        "colab": {
          "base_uri": "https://localhost:8080/"
        },
        "id": "qBKeCSYEwLZR",
        "outputId": "526bdef2-a241-4d45-ea28-e5b387ee0bba"
      },
      "outputs": [
        {
          "output_type": "stream",
          "name": "stdout",
          "text": [
            "preta\n",
            "branca\n"
          ]
        }
      ],
      "source": [
        "#inserindo definição\n",
        "\n",
        "class Bola:\n",
        "    def __init__(self, cor, circunferencia, material):\n",
        "        self.cor = cor\n",
        "        self.circunferencia = circunferencia\n",
        "        self.material = material\n",
        "\n",
        "    def trocaCor(self, nova_cor):\n",
        "        self.cor = nova_cor\n",
        "\n",
        "    def mostraCor(self):\n",
        "        return self.cor\n",
        "\n",
        "#caracteristicas\n",
        "bola = Bola(\"preta\", 30, \"couro\")\n",
        "print(bola.mostraCor())\n",
        "\n",
        "bola.trocaCor(\"branca\")\n",
        "print(bola.mostraCor())\n"
      ]
    }
  ]
}