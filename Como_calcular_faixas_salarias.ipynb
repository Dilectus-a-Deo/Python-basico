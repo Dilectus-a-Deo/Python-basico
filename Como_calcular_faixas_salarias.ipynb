{
  "nbformat": 4,
  "nbformat_minor": 0,
  "metadata": {
    "colab": {
      "provenance": [],
      "authorship_tag": "ABX9TyP81XPm4sQxaV1okY4QtHUp",
      "include_colab_link": true
    },
    "kernelspec": {
      "name": "python3",
      "display_name": "Python 3"
    },
    "language_info": {
      "name": "python"
    }
  },
  "cells": [
    {
      "cell_type": "markdown",
      "metadata": {
        "id": "view-in-github",
        "colab_type": "text"
      },
      "source": [
        "<a href=\"https://colab.research.google.com/github/Dilectus-a-Deo/Python-basico/blob/main/Como_calcular_faixas_salarias.ipynb\" target=\"_parent\"><img src=\"https://colab.research.google.com/assets/colab-badge.svg\" alt=\"Open In Colab\"/></a>"
      ]
    },
    {
      "cell_type": "code",
      "execution_count": null,
      "metadata": {
        "colab": {
          "base_uri": "https://localhost:8080/"
        },
        "id": "4uOLfYL4pxLz",
        "outputId": "2d3ed9f2-52a2-4d9c-c5e0-c2f9bed8be38"
      },
      "outputs": [
        {
          "output_type": "stream",
          "name": "stdout",
          "text": [
            "[1, 1, 1, 1, 1, 1, 1, 2, 3]\n"
          ]
        }
      ],
      "source": [
        "salario=[200,20,320,413,516,680,791,877,999,1000,2000,3000]\n",
        "contagem_de_faixa_salarial = [0] * 9\n",
        "for salario in salario:\n",
        "  indice = salario // 100 - 2\n",
        "  indice_maximo = len(contagem_de_faixa_salarial) - 1\n",
        "  indice = min(indice, indice_maximo)\n",
        "  contagem_de_faixa_salarial[indice] += 1\n",
        "\n",
        "print(contagem_de_faixa_salarial)\n",
        "\n"
      ]
    }
  ]
}