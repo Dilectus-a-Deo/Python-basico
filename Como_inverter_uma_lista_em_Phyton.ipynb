{
  "nbformat": 4,
  "nbformat_minor": 0,
  "metadata": {
    "colab": {
      "provenance": [],
      "authorship_tag": "ABX9TyN09GoOehJnw0e9ooZkzgBP",
      "include_colab_link": true
    },
    "kernelspec": {
      "name": "python3",
      "display_name": "Python 3"
    },
    "language_info": {
      "name": "python"
    }
  },
  "cells": [
    {
      "cell_type": "markdown",
      "metadata": {
        "id": "view-in-github",
        "colab_type": "text"
      },
      "source": [
        "<a href=\"https://colab.research.google.com/github/Dilectus-a-Deo/Python-basico/blob/main/Como_inverter_uma_lista_em_Phyton.ipynb\" target=\"_parent\"><img src=\"https://colab.research.google.com/assets/colab-badge.svg\" alt=\"Open In Colab\"/></a>"
      ]
    },
    {
      "cell_type": "code",
      "execution_count": null,
      "metadata": {
        "colab": {
          "base_uri": "https://localhost:8080/"
        },
        "id": "VexyJP4phMQS",
        "outputId": "1b495f40-1314-48e3-c0ab-3bd24d725381"
      },
      "outputs": [
        {
          "output_type": "stream",
          "name": "stdout",
          "text": [
            "Digite um número2.3\n",
            "[2.3]\n",
            "Digite um número4.5\n",
            "[4.5, 2.3]\n"
          ]
        }
      ],
      "source": [
        "lista=[]\n",
        "for _ in range(5):\n",
        "\n",
        "  numero = float(input('Digite um número'))\n",
        "  lista.append(numero)\n",
        "\n",
        "  lista.reverse()\n",
        "  print(lista)"
      ]
    }
  ]
}