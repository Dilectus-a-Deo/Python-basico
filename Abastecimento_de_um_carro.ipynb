{
  "nbformat": 4,
  "nbformat_minor": 0,
  "metadata": {
    "colab": {
      "provenance": [],
      "authorship_tag": "ABX9TyNhnBzahCsy0zf1DWRBppfW",
      "include_colab_link": true
    },
    "kernelspec": {
      "name": "python3",
      "display_name": "Python 3"
    },
    "language_info": {
      "name": "python"
    }
  },
  "cells": [
    {
      "cell_type": "markdown",
      "metadata": {
        "id": "view-in-github",
        "colab_type": "text"
      },
      "source": [
        "<a href=\"https://colab.research.google.com/github/Dilectus-a-Deo/Python-basico/blob/main/Abastecimento_de_um_carro.ipynb\" target=\"_parent\"><img src=\"https://colab.research.google.com/assets/colab-badge.svg\" alt=\"Open In Colab\"/></a>"
      ]
    },
    {
      "cell_type": "code",
      "execution_count": null,
      "metadata": {
        "id": "xXVEY18nkdB_",
        "outputId": "b36ee668-b3a3-4438-a57f-7f29037f9dde",
        "colab": {
          "base_uri": "https://localhost:8080/"
        }
      },
      "outputs": [
        {
          "output_type": "stream",
          "name": "stdout",
          "text": [
            "Foram abastecidos 21.79 litros a um valor de R$ 100.00.\n",
            "Sobraram na bomba 78.21 litros de Gasolina.\n",
            "Foram abastecidos 50.00 litros a um valor de R$ 229.50.\n",
            "Sobraram na bomba 28.21 litros de Gasolina.\n",
            "Não é possílve abastecer, faltam 21.79 litros.\n",
            "Reabasteça a bomba\n",
            "Foram abastecidos 50.00 litros a um valor de R$ 279.50.\n",
            "Sobraram na bomba 78.21 litros de Gasolina.\n"
          ]
        }
      ],
      "source": [
        "class BombaCombustivel:\n",
        "  def __init__(self, tipo_combustivel:str, valor_litro: float, quantidade_combustivel: float):\n",
        "    self.valor_litro = valor_litro\n",
        "    self.tipo_combustivel = tipo_combustivel\n",
        "    self.quantidade_combustivel = quantidade_combustivel\n",
        "\n",
        "  def abastecer_por_valor(self, valor:float):\n",
        "    litros_abastecidos = valor / self.valor_litro\n",
        "    self._apresentar_abastecimento_se_possivel(litros_abastecidos, valor)\n",
        "\n",
        "  def _apresentar_abastecimento_se_possivel(self, litros_abastecidos:float, valor:float):\n",
        "    if litros_abastecidos > self.quantidade_combustivel:\n",
        "      print(f'Não é possílve abastecer, faltam {litros_abastecidos - self.quantidade_combustivel:.2f} litros.')\n",
        "      print('Reabasteça a bomba')\n",
        "    else:\n",
        "      self.quantidade_combustivel -= litros_abastecidos\n",
        "      print(f'Foram abastecidos {litros_abastecidos:.2f} litros a um valor de R$ {valor:.2f}.')\n",
        "      print(f'Sobraram na bomba {self.quantidade_combustivel:.2f} litros de {self.tipo_combustivel}.')\n",
        "\n",
        "  def abastecer_por_litros(self, litros_abastecidos:float):\n",
        "    valor =  litros_abastecidos * self.valor_litro\n",
        "    self._apresentar_abastecimento_se_possivel(litros_abastecidos, valor)\n",
        "\n",
        "  def adicionar_mais_combustivel(self, quantidade:float):\n",
        "    if quantidade >= 0:\n",
        "      self.quantidade_combustivel += quantidade\n",
        "    else:\n",
        "      print('Malandrinho, você não vai roubar combustível dessa bomba')\n",
        "\n",
        "\n",
        "bomba = BombaCombustivel('Gasolina', 4.59, 100.0)\n",
        "\n",
        "bomba.abastecer_por_valor(100)\n",
        "\n",
        "bomba.abastecer_por_litros(50)\n",
        "\n",
        "bomba.valor_litro = 5.59\n",
        "bomba.abastecer_por_litros(50)\n",
        "\n",
        "bomba.adicionar_mais_combustivel(100)\n",
        "bomba.abastecer_por_litros(50)\n",
        "\n"
      ]
    }
  ]
}