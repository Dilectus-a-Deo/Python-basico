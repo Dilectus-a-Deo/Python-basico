{
  "nbformat": 4,
  "nbformat_minor": 0,
  "metadata": {
    "colab": {
      "provenance": [],
      "authorship_tag": "ABX9TyPMPZAZtse8bk56BN7U2rUg",
      "include_colab_link": true
    },
    "kernelspec": {
      "name": "python3",
      "display_name": "Python 3"
    },
    "language_info": {
      "name": "python"
    }
  },
  "cells": [
    {
      "cell_type": "markdown",
      "metadata": {
        "id": "view-in-github",
        "colab_type": "text"
      },
      "source": [
        "<a href=\"https://colab.research.google.com/github/Dilectus-a-Deo/Python-basico/blob/main/Classe_Quadrado.ipynb\" target=\"_parent\"><img src=\"https://colab.research.google.com/assets/colab-badge.svg\" alt=\"Open In Colab\"/></a>"
      ]
    },
    {
      "cell_type": "code",
      "execution_count": 11,
      "metadata": {
        "colab": {
          "base_uri": "https://localhost:8080/"
        },
        "id": "ZibE7cyb1wuG",
        "outputId": "5ae4c88f-c164-4ee4-fe4c-ffde9a3b1fe0"
      },
      "outputs": [
        {
          "output_type": "stream",
          "name": "stdout",
          "text": [
            "10\n",
            "15\n",
            "225\n"
          ]
        }
      ],
      "source": [
        "#inserindo definição\n",
        "\n",
        "class Quadrado:\n",
        "    def __init__(self, tamanho_do_lado):\n",
        "        self.tamanho_do_lado = tamanho_do_lado\n",
        "\n",
        "    def mudar_valor_do_lado(self, novo_tamanho):\n",
        "        self.tamanho_do_lado = novo_tamanho\n",
        "\n",
        "    def retornar_valor_do_lado(self):\n",
        "        return self.tamanho_do_lado\n",
        "\n",
        "    def calcular_area(self):\n",
        "        return self.tamanho_do_lado ** 2\n",
        "\n",
        "#caracteristicas\n",
        "\n",
        "quadrado = Quadrado(10)\n",
        "print(quadrado.retornar_valor_do_lado())\n",
        "quadrado.mudar_valor_do_lado(15)\n",
        "print(quadrado.retornar_valor_do_lado())\n",
        "print(quadrado.calcular_area())\n"
      ]
    },
    {
      "cell_type": "code",
      "source": [],
      "metadata": {
        "id": "7xOWYJ7H_eVS"
      },
      "execution_count": null,
      "outputs": []
    }
  ]
}