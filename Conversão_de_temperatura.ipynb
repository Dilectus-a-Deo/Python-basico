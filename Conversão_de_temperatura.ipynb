{
  "nbformat": 4,
  "nbformat_minor": 0,
  "metadata": {
    "colab": {
      "provenance": [],
      "authorship_tag": "ABX9TyME3ochUMpSA7gP57K41t2i",
      "include_colab_link": true
    },
    "kernelspec": {
      "name": "python3",
      "display_name": "Python 3"
    },
    "language_info": {
      "name": "python"
    }
  },
  "cells": [
    {
      "cell_type": "markdown",
      "metadata": {
        "id": "view-in-github",
        "colab_type": "text"
      },
      "source": [
        "<a href=\"https://colab.research.google.com/github/Dilectus-a-Deo/Python-basico/blob/main/Convers%C3%A3o_de_temperatura.ipynb\" target=\"_parent\"><img src=\"https://colab.research.google.com/assets/colab-badge.svg\" alt=\"Open In Colab\"/></a>"
      ]
    },
    {
      "cell_type": "code",
      "execution_count": null,
      "metadata": {
        "colab": {
          "base_uri": "https://localhost:8080/"
        },
        "id": "4_b9H-rxv8nq",
        "outputId": "15d24d65-6d00-4413-d1d5-a5c5cd3e85ce"
      },
      "outputs": [
        {
          "output_type": "stream",
          "name": "stdout",
          "text": [
            "Digite a temperatura em graus fahrenheit: 1\n",
            "A temperatura em graus celsius é:  -17.22222222222222\n"
          ]
        }
      ],
      "source": [
        "# Pedindo para o usuário inserir a temperatura em graus Fahrenheit:\n",
        "\n",
        "fahrenheit = float(input( \"Digite a temperatura em graus fahrenheit: \" ))\n",
        "\n",
        "# Transformando a temperatura em graus celsius:\n",
        "\n",
        "celsius = 5 * ((fahrenheit - 32) / 9 )\n",
        "\n",
        "# Mostrando a temperatura em graus celsius:\n",
        "\n",
        "print( \"A temperatura em graus celsius é: \" , celsius)\n"
      ]
    }
  ]
}