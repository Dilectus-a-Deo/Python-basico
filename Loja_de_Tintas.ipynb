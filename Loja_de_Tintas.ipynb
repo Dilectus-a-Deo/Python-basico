{
  "nbformat": 4,
  "nbformat_minor": 0,
  "metadata": {
    "colab": {
      "provenance": [],
      "authorship_tag": "ABX9TyP0BhSECtmpmpM/OYgj40fJ",
      "include_colab_link": true
    },
    "kernelspec": {
      "name": "python3",
      "display_name": "Python 3"
    },
    "language_info": {
      "name": "python"
    }
  },
  "cells": [
    {
      "cell_type": "markdown",
      "metadata": {
        "id": "view-in-github",
        "colab_type": "text"
      },
      "source": [
        "<a href=\"https://colab.research.google.com/github/Dilectus-a-Deo/Python-basico/blob/main/Loja_de_Tintas.ipynb\" target=\"_parent\"><img src=\"https://colab.research.google.com/assets/colab-badge.svg\" alt=\"Open In Colab\"/></a>"
      ]
    },
    {
      "cell_type": "code",
      "execution_count": 2,
      "metadata": {
        "colab": {
          "base_uri": "https://localhost:8080/"
        },
        "id": "DgUcVxMpqX3y",
        "outputId": "a4d3d338-7180-4d00-c454-ba498835e1f3"
      },
      "outputs": [
        {
          "output_type": "stream",
          "name": "stdout",
          "text": [
            "Digite o valor da área a ser pintada: 1\n",
            "Você precisará de 1 latas de tinta.\n",
            "O preço total será de R$80.00.\n"
          ]
        }
      ],
      "source": [
        "import math\n",
        "\n",
        "#inserindo variáveis\n",
        "\n",
        "area = float(input(\"Digite o valor da área a ser pintada: \"))\n",
        "\n",
        "#inserindo as informações\n",
        "\n",
        "litros = area / 3\n",
        "latas = math.ceil(litros / 18)\n",
        "preco = latas * 80\n",
        "#inserindo informações finais\n",
        "\n",
        "print(\"Você precisará de {} latas de tinta.\".format(latas))\n",
        "print(\"O preço total será de R${:.2f}.\".format(preco))\n"
      ]
    },
    {
      "cell_type": "code",
      "source": [],
      "metadata": {
        "id": "4kNB7rvzu3zF"
      },
      "execution_count": null,
      "outputs": []
    }
  ]
}